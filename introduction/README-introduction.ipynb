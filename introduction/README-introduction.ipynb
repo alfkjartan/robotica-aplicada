{
 "cells": [
  {
   "cell_type": "markdown",
   "metadata": {},
   "source": [
    "# Introduction to applied robotics\n",
    "\n",
    "## Cool videos on robotics\n",
    "There are many out there, but here is a selection \n",
    "1. [Durus' effecicent walking](https://youtu.be/HyqT9Bdamt8) From the DARPA challenge 2015.\n",
    "2. [Six medical robots in action](https://youtu.be/2fnv_3qn3Yc) From IEEE Spectrum.\n",
    "\n",
    "# Background stuff\n",
    "This part takes up some important concepts that you should be familiar with from before. Nevertheless, it can be worthwhile to fresh-up your knowledge at the start of the robotics course.\n",
    "\n",
    "## Notebooks\n",
    "Notebooks are interactive! You can follow along, try things, and solve some simple exercises.\n",
    "1. [Vectors and points](notebooks/vectors-points.ipynb) A refresher on basic properties of scalars and vectors.\n",
    "2. [Homogeneous coordinates](notebooks/homogeneous-coordinates.ipynb) Representing points and vectors in 3D using 4-tuples."
   ]
  },
  {
   "cell_type": "code",
   "execution_count": null,
   "metadata": {
    "collapsed": true
   },
   "outputs": [],
   "source": []
  }
 ],
 "metadata": {
  "kernelspec": {
   "display_name": "Python 2",
   "language": "python",
   "name": "python2"
  },
  "language_info": {
   "codemirror_mode": {
    "name": "ipython",
    "version": 2
   },
   "file_extension": ".py",
   "mimetype": "text/x-python",
   "name": "python",
   "nbconvert_exporter": "python",
   "pygments_lexer": "ipython2",
   "version": "2.7.11"
  }
 },
 "nbformat": 4,
 "nbformat_minor": 0
}
