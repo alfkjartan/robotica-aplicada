{
 "cells": [
  {
   "cell_type": "markdown",
   "metadata": {},
   "source": [
    "# Homogeneous coordinates\n",
    "\n",
    "## Operations on points and vectors\n",
    "Consider the three most basic elements of geometry: Scalars $\\mathcal{S}$, points $\\mathcal{P}$ and vectors $\\mathcal{V}$. The operations that are allowed are\n",
    "1. $\\mathcal{S}\\cdot\\mathcal{V} \\rightarrow \\mathcal{V}$ Scalar multiplied by vector gives a vector.\n",
    "2. $\\mathcal{V}+\\mathcal{V} \\rightarrow \\mathcal{V}$ Addition of vectors gives a vector.\n",
    "3. $\\mathcal{P}+\\mathcal{V} \\rightarrow \\mathcal{P}$ Adding a vector to a point gives a new point translated by the vector.\n",
    "4. $\\mathcal{P}-\\mathcal{P} \\rightarrow \\mathcal{B}$ Subtracting two points results in a vector.\n",
    "\n",
    "## Homogeneous coordinates\n",
    "When we represent points and vectors as 3-tuples, we implicitly assume a coordinates system with an origin (a point) and three orthogonal axes defined by three unit vectors. Another, convenient, representation of points and vectors is *homogeneous coordinates*, which appends an additional number to the tuple giving a 4-tuple representation. This additional number is 0 for vectors and 1 for points. \n",
    "\n",
    "for instance, the point $P=(1,2,3)$ is in homogeneous coordinates $$ \\bar{P} = \\begin{bmatrix} 1\\\\2\\\\3\\\\1 \\end{bmatrix} $$ and the vector $a=[2,5,1]$ is $$\\bar{a} = \\begin{bmatrix} 2\\\\5\\\\1\\\\0\\end{bmatrix}$$\n",
    "\n",
    "We now see that adding $P$ and $a$ gives a point: \n",
    "$$ Q = P+a = \\begin{bmatrix} 3\\\\7\\\\4\\\\1 \\end{bmatrix}$$\n",
    "since the last element is 1. It also follows that the difference of two points is a vector:\n",
    "$$ b = \\begin{bmatrix} 2\\\\1\\\\4\\\\1 \\end{bmatrix} - \\begin{bmatrix} 1\\\\4\\\\3\\\\1 \\end{bmatrix} = \\begin{bmatrix} 1\\\\-3\\\\1\\\\0 \\end{bmatrix} $$"
   ]
  },
  {
   "cell_type": "markdown",
   "metadata": {},
   "source": [
    "## Python example"
   ]
  },
  {
   "cell_type": "code",
   "execution_count": 2,
   "metadata": {
    "collapsed": false
   },
   "outputs": [],
   "source": [
    "class HCoordinate:\n",
    "    def __init__(self, x, y, z, v):\n",
    "        self.x = x\n",
    "        self.y = y\n",
    "        self.z = z\n",
    "        self.v = v\n",
    "    def add(self, other):\n",
    "        self.x += other.x\n",
    "        self.y += other.y\n",
    "        self.z += other.z\n",
    "        self.v += other.v\n",
    "        return self\n",
    "    def sub(self, other):\n",
    "        self.x -= other.x\n",
    "        self.y -= other.y\n",
    "        self.z -= other.z\n",
    "        self.v -= other.v\n",
    "        return self\n",
    "    def __str__(self):\n",
    "        \"\"\"Returns nice string representation\"\"\"\n",
    "        if self.v == 0:\n",
    "            return \"Vector  [%f, %f, %f]\" % (self.x, self.y, self.z)\n",
    "        if self.v == 1:\n",
    "            return \"Point  (%f, %f, %f)\" % (self.x, self.y, self.z)\n",
    "        else:\n",
    "            return \"Not a geomtric element  [%f, %f, %f, $f]\" % (self.x, self.y, self.z, self.v)\n",
    "            \n",
    "    def __repr__(self):\n",
    "        return self.__str__()\n",
    "\n",
    " "
   ]
  },
  {
   "cell_type": "code",
   "execution_count": 4,
   "metadata": {
    "collapsed": false
   },
   "outputs": [
    {
     "data": {
      "text/plain": [
       "Vector  [1.000000, -3.000000, 1.000000]"
      ]
     },
     "execution_count": 4,
     "metadata": {},
     "output_type": "execute_result"
    }
   ],
   "source": [
    "A = HCoordinate(2,1,4,1)\n",
    "B = HCoordinate(1,4,3,1)\n",
    "A.sub(B)"
   ]
  },
  {
   "cell_type": "code",
   "execution_count": null,
   "metadata": {
    "collapsed": true
   },
   "outputs": [],
   "source": []
  }
 ],
 "metadata": {
  "kernelspec": {
   "display_name": "Python 2",
   "language": "python",
   "name": "python2"
  },
  "language_info": {
   "codemirror_mode": {
    "name": "ipython",
    "version": 2
   },
   "file_extension": ".py",
   "mimetype": "text/x-python",
   "name": "python",
   "nbconvert_exporter": "python",
   "pygments_lexer": "ipython2",
   "version": "2.7.11"
  }
 },
 "nbformat": 4,
 "nbformat_minor": 0
}
