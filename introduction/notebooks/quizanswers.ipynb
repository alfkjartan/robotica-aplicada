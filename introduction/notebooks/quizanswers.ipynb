{
 "cells": [
  {
   "cell_type": "markdown",
   "metadata": {},
   "source": [
    "# Answers to the quiz\n",
    "1. A point is a location in 3D. When we write it as a triplet of numbers, we are specifying how to get to the point *starting from the origin* along a set of three axes. A vector has a magnitude and a direction, but it does not have a starting point and end point. When we write it as a triplet, we are giving its components in terms of a set of three vectors. Ususally this set of three vectors is orthonormal, meaning the vectors are of unit length and perpendicular to each other.\n",
    "2. Vector addition is obtained by addition of each element, *provided the vectors are expressed in the same coordinate system*. So $c=a+b=[1,2,5] + [2,2,-2] = [3,4,3]$\n",
    "3. By subtracting the two points $P$ and $A$, we obtain a vector $AP$. It is the vector that would take us to $P$ if we start in $A$. We get $AP=P-A = (1,4,1) - (2,1,0) = (-1, 3, 1)$ \n",
    "4. Assume there is a point $Q$ such that $Q-P = a$, where $a$ is a vector. This means that $Q=P+a$, so *adding a vector to a point gives a new point*. Here we get $Q=(1,4,1)+[1,2,5] = (2,6,6)$."
   ]
  }
 ],
 "metadata": {
  "kernelspec": {
   "display_name": "Python 2",
   "language": "python",
   "name": "python2"
  },
  "language_info": {
   "codemirror_mode": {
    "name": "ipython",
    "version": 2
   },
   "file_extension": ".py",
   "mimetype": "text/x-python",
   "name": "python",
   "nbconvert_exporter": "python",
   "pygments_lexer": "ipython2",
   "version": "2.7.11"
  }
 },
 "nbformat": 4,
 "nbformat_minor": 0
}
