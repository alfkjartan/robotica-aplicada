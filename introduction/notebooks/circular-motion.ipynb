{
 "cells": [
  {
   "cell_type": "markdown",
   "metadata": {},
   "source": [
    "# Circular motion\n",
    "\n",
    "## A simple one-link manipulator\n",
    "Consider the simple manipulator below, consisting of a homogenous rod of mass $m=0.1$kg and length $l=1$m. The rod is rotating about the single joint with a constant angular velocity of $\\omega=2$rad/s. \n",
    "\n",
    "<!--- ![Block diagram of cruise control system](cruise-control-pid-block.svg) -->\n",
    "<img src=\"single-link-circular-motion.svg\" alt=\"One-link manipulator\" width=\"400\">\n",
    "\n",
    "\n",
    "### What is the centripetal acceleration at the endpoint?\n"
   ]
  },
  {
   "cell_type": "code",
   "execution_count": 1,
   "metadata": {
    "collapsed": true
   },
   "outputs": [],
   "source": [
    "import numpy as np\n",
    "import matplotlib.pyplot as plt\n",
    "%matplotlib inline"
   ]
  },
  {
   "cell_type": "code",
   "execution_count": 3,
   "metadata": {
    "collapsed": false
   },
   "outputs": [
    {
     "name": "stdout",
     "output_type": "stream",
     "text": [
      "The centripetal acceleration at the endpoint is 4.00 m/s^2\n"
     ]
    }
   ],
   "source": [
    "# Parameters. SI units, of course\n",
    "m = 0.1\n",
    "l = 1.0\n",
    "omega = 2.0\n",
    "\n",
    "# The formular for centripetal acceleration is\n",
    "a_c = omega**2 * l\n",
    "print \"The centripetal acceleration at the endpoint is %1.2f m/s^2\" % a_c"
   ]
  },
  {
   "cell_type": "markdown",
   "metadata": {},
   "source": [
    "### What is the centripetal acceleration at the center of mass?"
   ]
  },
  {
   "cell_type": "code",
   "execution_count": 23,
   "metadata": {
    "collapsed": false
   },
   "outputs": [
    {
     "data": {
      "text/latex": [
       "The centripetal acceleration at the center of mass is 2.00 $m/s^2$"
      ],
      "text/plain": [
       "<IPython.core.display.Latex object>"
      ]
     },
     "metadata": {},
     "output_type": "display_data"
    }
   ],
   "source": [
    "# %load com-acceleration.py\n",
    "# The center of mass for a homogeneous rod is of course in the middle of the rod\n",
    "from IPython.display import display, Math, Latex\n",
    "display(Latex(r\"The centripetal acceleration at the center of mass is %1.2f $m/s^2$\" % (omega**2*l/2)))"
   ]
  },
  {
   "cell_type": "markdown",
   "metadata": {},
   "source": [
    "## Derivation of the acceleration for uniform circular motion\n",
    "Define the x- and y axis as in the figure below. The angle $\\theta$ to be the angle to the x-axis\n",
    "\n",
    "<!--- ![Block diagram of cruise control system](cruise-control-pid-block.svg) -->\n",
    "<img src=\"single-link-polar-axes.png\" alt=\"One-link manipulator polar coordinates\" width=\"400\">\n",
    "\n",
    "We have defined unit vectors in a polar coordinate system attached to the moving link\n",
    "\\begin{align}\n",
    "e_r &= \\begin{bmatrix}\\cos\\theta\\\\\\sin\\theta\\end{bmatrix}\\\\\n",
    "e_\\theta &= \\begin{bmatrix}-\\sin\\theta\\\\\\cos\\theta\\end{bmatrix}\n",
    "\\end{align}\n",
    "With these unit vectors it is easy to express the position $p$ of the endpoint with respect to the origin, which is located at the joint:\n",
    "$$ p(t) = l e_r(t) = l \\begin{bmatrix}\\cos\\theta\\\\\\sin\\theta\\end{bmatrix}. $$\n",
    "\n",
    "In order to find the velocity of the endpoint we take the time-derivative of the position\n",
    "\\begin{align}\n",
    "   v(t) &= \\frac{d}{dt} p(t) = \\left( \\frac{d}{dt} l \\right) e_r + l \\frac{d}{dt} e_r\\\\\n",
    "        &= l \\frac{d}{dt} \\begin{bmatrix}\\cos\\theta\\\\\\sin\\theta\\end{bmatrix}\\\\\n",
    "        &= l \\frac{d}{d\\theta}\\begin{bmatrix}\\cos\\theta\\\\\\sin\\theta\\end{bmatrix} \\frac{d\\theta}{dt}\\\\\n",
    "        &= l \\omega \\begin{bmatrix}-\\sin\\theta\\\\\\cos\\theta\\end{bmatrix} = l \\omega e_\\theta.\n",
    "\\end{align}\n",
    "We see that the *speed*, the magnitude of the velocity, $|v| = l \\omega $ is proportional to both the distance from the center of rotation and to the angular velocity. The velocity vector is tangential to the path of the endpoint, and if $\\omega$ is positive, then the direction of the velocity is in the positive direction of $e_\\theta$.  \n",
    "\n",
    "### Exercise: derive the centripetal acceleration by differentiating the velocity\n",
    "Also: Discuss the magnitude and direction of the centripetal acceleration."
   ]
  },
  {
   "cell_type": "code",
   "execution_count": 34,
   "metadata": {
    "collapsed": false
   },
   "outputs": [
    {
     "data": {
      "text/latex": [
       "\n",
       "The acceleration becomes\n",
       "\\begin{align}\n",
       "a(t) &= \\frac{d}{dt} v(t) = \\frac{d}{dt} l \\omega e_\\theta = \\frac{d}{dt} l \\omega \\begin{bmatrix} -\\sin\\theta \\\\ \\cos\\theta \\end{bmatrix} \\\\\n",
       "     &= \\frac{d}{dt} \\left( l \\ omega \\right) e_\\theta + l \\omega \\frac{d}{dt} \\begin{bmatrix} -\\sin\\theta \\\\ \\cos\\theta \\end{bmatrix} \\\\\n",
       "     &= 0 + l \\omega^2 \\begin{bmatrix} -\\cos\\theta \\\\ -\\sin\\theta \\end{bmatrix} = - l \\omega^2 e_r.  \n",
       "\\end{align}\n"
      ],
      "text/plain": [
       "<IPython.core.display.Latex object>"
      ]
     },
     "metadata": {},
     "output_type": "display_data"
    }
   ],
   "source": [
    "# %load centripetal-acceleration-solution.py\n",
    "display(Latex(\"\"\"\n",
    "The acceleration becomes\n",
    "\\\\begin{align}\n",
    "a(t) &= \\\\frac{d}{dt} v(t) = \\\\frac{d}{dt} l \\\\omega e_\\\\theta = \\\\frac{d}{dt} l \\\\omega \\\\begin{bmatrix} -\\\\sin\\\\theta \\\\\\\\ \\\\cos\\\\theta \\\\end{bmatrix} \\\\\\\\\n",
    "     &= \\\\frac{d}{dt} \\left( l \\\\ omega \\\\right) e_\\\\theta + l \\\\omega \\\\frac{d}{dt} \\\\begin{bmatrix} -\\\\sin\\\\theta \\\\\\\\ \\\\cos\\\\theta \\\\end{bmatrix} \\\\\\\\\n",
    "     &= 0 + l \\\\omega^2 \\\\begin{bmatrix} -\\\\cos\\\\theta \\\\\\\\ -\\\\sin\\\\theta \\\\end{bmatrix} = - l \\omega^2 e_r.  \n",
    "\\\\end{align}\n",
    "\"\"\"))"
   ]
  },
  {
   "cell_type": "code",
   "execution_count": null,
   "metadata": {
    "collapsed": true
   },
   "outputs": [],
   "source": []
  },
  {
   "cell_type": "code",
   "execution_count": null,
   "metadata": {
    "collapsed": true
   },
   "outputs": [],
   "source": []
  }
 ],
 "metadata": {
  "kernelspec": {
   "display_name": "Python 2",
   "language": "python",
   "name": "python2"
  },
  "language_info": {
   "codemirror_mode": {
    "name": "ipython",
    "version": 2
   },
   "file_extension": ".py",
   "mimetype": "text/x-python",
   "name": "python",
   "nbconvert_exporter": "python",
   "pygments_lexer": "ipython2",
   "version": "2.7.12"
  }
 },
 "nbformat": 4,
 "nbformat_minor": 0
}
