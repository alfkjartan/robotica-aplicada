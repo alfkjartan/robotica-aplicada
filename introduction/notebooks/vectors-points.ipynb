{
 "cells": [
  {
   "cell_type": "markdown",
   "metadata": {},
   "source": [
    "# Vectors and points\n",
    "\n",
    "Start by watching [this video](https://youtu.be/iBgOoaeLUcM) from Khan Academy.\n",
    "\n",
    "## Quiz\n",
    "1. Both points and vectors in 3D are represented by a triplet of numbers. But what is the importent difference between a point and a vector?\n",
    "2. If I add the vectors $a=[1,2,5]$ and $b=[2,2,-2]$ I get $c=$?\n",
    "3. What do I get if I subtract the points $P=(1,4,1)$ and $A=(2,1,0)$? \n",
    "4. What do I get If I add $a$ to the point $P$? \n",
    "\n",
    "[Answers](quizanswers.ipynb)"
   ]
  },
  {
   "cell_type": "markdown",
   "metadata": {},
   "source": [
    "## A simple python example\n",
    "Next we will define two simple classes to represent 3D vectors and 3D points, and do some calculations using objects of these two classes"
   ]
  },
  {
   "cell_type": "code",
   "execution_count": 16,
   "metadata": {
    "collapsed": true
   },
   "outputs": [],
   "source": [
    "class Vector3D:\n",
    "    \"\"\" Represents vectors in 3D\"\"\"\n",
    "    def __init__(self, x, y, z):\n",
    "        self.x = x\n",
    "        self.y = y\n",
    "        self.z = z\n",
    "    def add(self, other):\n",
    "        \"\"\"Add other vector to this vector\"\"\"\n",
    "        self.x += other.x\n",
    "        self.y += other.y\n",
    "        self.z += other.z\n",
    "        return self\n",
    "    def sub(self, other):\n",
    "        \"\"\"Subtract other vector to this vector\"\"\"\n",
    "        self.x -= other.x\n",
    "        self.y -= other.y\n",
    "        self.z -= other.z\n",
    "        return self\n",
    "    def __str__(self):\n",
    "        \"\"\"Returns nice string representation of this vector\"\"\"\n",
    "        return \"Vector3D [%f, %f, %f]\" % (self.x, self.y, self.z)\n",
    "    def __repr__(self):\n",
    "        return self.__str__();\n",
    "    \n",
    "class Point3D:\n",
    "    \"\"\" Represents points in 3D\"\"\"\n",
    "    def __init__(self, x, y, z):\n",
    "        self.x = x\n",
    "        self.y = y\n",
    "        self.z = z\n",
    "    def sub(self, other):\n",
    "        \"\"\"Subtract other point from this point. Return vector\"\"\"\n",
    "        return Vector3D(self.x - other.x, self.y - other.y, self.z - other.z)\n",
    "    def __str__(self):\n",
    "        \"\"\"Returns nice string representation of this point\"\"\"\n",
    "        return \"Point3D [%f, %f, %f]\" % (self.x, self.y, self.z)\n",
    "    def __repr__(self):\n",
    "        return self.__str__();\n",
    "    "
   ]
  },
  {
   "cell_type": "code",
   "execution_count": 17,
   "metadata": {
    "collapsed": false
   },
   "outputs": [
    {
     "data": {
      "text/plain": [
       "Vector3D [3.000000, 4.000000, 3.000000]"
      ]
     },
     "execution_count": 17,
     "metadata": {},
     "output_type": "execute_result"
    }
   ],
   "source": [
    "# Verify answer to the first quiz question\n",
    "a = Vector3D(1,2,5)\n",
    "b = Vector3D(2,2,-2)\n",
    "a.add(b)"
   ]
  },
  {
   "cell_type": "code",
   "execution_count": 18,
   "metadata": {
    "collapsed": false
   },
   "outputs": [
    {
     "data": {
      "text/plain": [
       "Vector3D [3.000000, -1.000000, 2.000000]"
      ]
     },
     "execution_count": 18,
     "metadata": {},
     "output_type": "execute_result"
    }
   ],
   "source": [
    "# Subtract two points\n",
    "A = Point3D(4,4,4)\n",
    "B = Point3D(1,5,2)\n",
    "A.sub(B)"
   ]
  },
  {
   "cell_type": "code",
   "execution_count": 20,
   "metadata": {
    "collapsed": false
   },
   "outputs": [
    {
     "ename": "AttributeError",
     "evalue": "Point3D instance has no attribute 'add'",
     "output_type": "error",
     "traceback": [
      "\u001b[1;31m---------------------------------------------------------------------------\u001b[0m",
      "\u001b[1;31mAttributeError\u001b[0m                            Traceback (most recent call last)",
      "\u001b[1;32m<ipython-input-20-5c3d13f00bbb>\u001b[0m in \u001b[0;36m<module>\u001b[1;34m()\u001b[0m\n\u001b[0;32m      1\u001b[0m \u001b[1;31m# Add two point\u001b[0m\u001b[1;33m\u001b[0m\u001b[1;33m\u001b[0m\u001b[0m\n\u001b[1;32m----> 2\u001b[1;33m \u001b[0mA\u001b[0m\u001b[1;33m.\u001b[0m\u001b[0madd\u001b[0m\u001b[1;33m(\u001b[0m\u001b[0mB\u001b[0m\u001b[1;33m)\u001b[0m \u001b[1;31m# Will give error, since add is not defined for points\u001b[0m\u001b[1;33m\u001b[0m\u001b[0m\n\u001b[0m",
      "\u001b[1;31mAttributeError\u001b[0m: Point3D instance has no attribute 'add'"
     ]
    }
   ],
   "source": [
    "# Add two point\n",
    "A.add(B) # Will give error, since add is not defined for points"
   ]
  },
  {
   "cell_type": "code",
   "execution_count": null,
   "metadata": {
    "collapsed": true
   },
   "outputs": [],
   "source": []
  }
 ],
 "metadata": {
  "kernelspec": {
   "display_name": "Python 2",
   "language": "python",
   "name": "python2"
  },
  "language_info": {
   "codemirror_mode": {
    "name": "ipython",
    "version": 2
   },
   "file_extension": ".py",
   "mimetype": "text/x-python",
   "name": "python",
   "nbconvert_exporter": "python",
   "pygments_lexer": "ipython2",
   "version": "2.7.11"
  }
 },
 "nbformat": 4,
 "nbformat_minor": 0
}
