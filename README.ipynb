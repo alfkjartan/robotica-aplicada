{
 "cells": [
  {
   "cell_type": "markdown",
   "metadata": {},
   "source": [
    "# Robotica aplicada TE2041\n",
    "Welcome to the interactive learning material for the applied roboitcs course!\n",
    "\n",
    "The material is divided into topics corresponding to the topics discussed in class. For each topic there are notebooks explaining concepts and providing examples that you can try out for your self.\n",
    "\n",
    "## Contents\n",
    "1. [Introduction](introduction/README.ipynb) Introduction and background material.\n",
    "2. [Kinematics](kinematics/README.ipynb) Rigid body- and manipulator kinematics. Points, vectors, frames, rotations and transformations.\n",
    "3. [Inverse kinematics](inverse-kinematics/README.ipynb) How to find the joint coordinates that gives a desired position and orientation of the robot.\n",
    "4. [Statics](statics/README.ipynb) Analyzing static loads on the robot.\n",
    "5. [Path planning](path-planning/README.ipynb) How to find suitable trajectories for the robot.\n",
    "6. [Vision](vision/README.ipynb) Introduction to robotic vision.\n",
    "\n",
    "## Text book\n",
    "\n",
    "## Good to watch\n",
    "- [Introduction to Jupyter](https://www.youtube.com/watch?v=Rc4JQWowG5I) If you are new to the Jupyter notebook.\n",
    "- [Basic intro to Python](https://www.youtube.com/watch?v=husPzLE6sZc&list=PLJR1V_NHIKrCkswPMULzQFHpYa57ZFGbs&index=1) If you are new to python.\n",
    "- [Introduction to Numpy](https://www.youtube.com/watch?v=1zmV8lZsHF4) Python with the numpy module can do (almost) all that matlab can do.\n",
    "- [Tutorial on SymPy](https://youtu.be/Lgp442bibDM?list=PLA2e5WT3gtEKBS3UbsT5LWrk4gHe82Pg7) Tutorial on how to use SymPy, python's symbolic math toolbox\n",
    "\n",
    "\n",
    "## Good to read\n",
    "- [Installing Jupyter notebook](http://jupyter.readthedocs.io/en/latest/install.html) If you want to run things locally.\n"
   ]
  },
  {
   "cell_type": "code",
   "execution_count": null,
   "metadata": {
    "collapsed": true
   },
   "outputs": [],
   "source": []
  }
 ],
 "metadata": {
  "kernelspec": {
   "display_name": "Python 2",
   "language": "python",
   "name": "python2"
  },
  "language_info": {
   "codemirror_mode": {
    "name": "ipython",
    "version": 2
   },
   "file_extension": ".py",
   "mimetype": "text/x-python",
   "name": "python",
   "nbconvert_exporter": "python",
   "pygments_lexer": "ipython2",
   "version": "2.7.11"
  }
 },
 "nbformat": 4,
 "nbformat_minor": 0
}
